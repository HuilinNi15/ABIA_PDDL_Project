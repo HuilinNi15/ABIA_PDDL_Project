{
 "cells": [
  {
   "cell_type": "code",
   "execution_count": 1,
   "metadata": {},
   "outputs": [],
   "source": [
    "from Python.generator import Problem\n",
    "import random as rand\n",
    "import pandas as pd"
   ]
  },
  {
   "cell_type": "code",
   "execution_count": 2,
   "metadata": {},
   "outputs": [],
   "source": [
    "# seeds = [rand.randint(1, 1000000000) for _ in range(10)]\n",
    "seeds = [310294340,\n",
    " 481384238,\n",
    " 393948691,\n",
    " 54466310,\n",
    " 393844825,\n",
    " 607440463,\n",
    " 611846857,\n",
    " 836378547,\n",
    " 666002099,\n",
    " 639709340]"
   ]
  },
  {
   "cell_type": "code",
   "execution_count": 3,
   "metadata": {},
   "outputs": [],
   "source": [
    "def experiment(problem, seeds, n_rovers, suministros, personal, mars_map, warehouses, settlements, r_map, optim):\n",
    "    results = []\n",
    "    for seed in seeds:\n",
    "        objects, init = problem.generate_problem(\n",
    "            n_rovers, suministros, personal, mars_map, warehouses, settlements, r_map, seed)\n",
    "\n",
    "        problem.write_problem(objects, init)\n",
    "        problem.execute(optim)\n",
    "        steps, times, result = problem.read_output()\n",
    "        results.append(result)\n",
    "    return results\n"
   ]
  },
  {
   "cell_type": "code",
   "execution_count": 6,
   "metadata": {},
   "outputs": [],
   "source": [
    "def print_results(results, title):\n",
    "    mean = []\n",
    "\n",
    "    df = pd.DataFrame(results)\n",
    "    df = df.astype(float)\n",
    "    mean = df.mean()\n",
    "\n",
    "    # print(results[0])\n",
    "    print('------------------------------------------')\n",
    "    print(title)\n",
    "    print(f\"Step: {mean[0]}\")\n",
    "    print(f\"Time: {mean[1]}\")\n",
    "    print(f\"easy actions: {mean[2]}\")\n",
    "    print(f\"hard actions: {mean[3]}\") # Este no está puesto para apuntar, perquè siempre ha sido cero\n",
    "    print(f\"facts: {mean[4]}\")\n",
    "    print(f\"actions: {mean[5]}\")\n",
    "    print(f\"relevant facts: {mean[6]}\")\n",
    "    print(f\"relevant fluents: {mean[7]}\")\n",
    "    print(f\"states: {mean[8]}\")\n",
    "    print(f\"depth: {mean[9]}\")\n",
    "    print('------------------------------------------')\n"
   ]
  },
  {
   "cell_type": "code",
   "execution_count": 8,
   "metadata": {},
   "outputs": [],
   "source": [
    "from IPython.display import clear_output\n"
   ]
  },
  {
   "cell_type": "code",
   "execution_count": 10,
   "metadata": {},
   "outputs": [
    {
     "ename": "KeyboardInterrupt",
     "evalue": "",
     "output_type": "error",
     "traceback": [
      "\u001b[1;31m---------------------------------------------------------------------------\u001b[0m",
      "\u001b[1;31mKeyboardInterrupt\u001b[0m                         Traceback (most recent call last)",
      "Cell \u001b[1;32mIn [10], line 15\u001b[0m\n\u001b[0;32m     13\u001b[0m settlements \u001b[39m=\u001b[39m [\u001b[39m1\u001b[39m, \u001b[39m3\u001b[39m]\n\u001b[0;32m     14\u001b[0m r_map \u001b[39m=\u001b[39m \u001b[39m0.5\u001b[39m\n\u001b[1;32m---> 15\u001b[0m results \u001b[39m=\u001b[39m experiment(problem, seeds, n_rovers, suministros, personal, mars_map, warehouses, settlements, r_map, optim)\n\u001b[0;32m     16\u001b[0m print_results(results, title\u001b[39m=\u001b[39m\u001b[39mf\u001b[39m\u001b[39m'\u001b[39m\u001b[39mTransportables:\u001b[39m\u001b[39m{\u001b[39;00mvar \u001b[39m*\u001b[39m\u001b[39m2\u001b[39m\u001b[39m}\u001b[39;00m\u001b[39m'\u001b[39m)\n",
      "Cell \u001b[1;32mIn [3], line 8\u001b[0m, in \u001b[0;36mexperiment\u001b[1;34m(problem, seeds, n_rovers, suministros, personal, mars_map, warehouses, settlements, r_map, optim)\u001b[0m\n\u001b[0;32m      4\u001b[0m objects, init \u001b[39m=\u001b[39m problem\u001b[39m.\u001b[39mgenerate_problem(\n\u001b[0;32m      5\u001b[0m     n_rovers, suministros, personal, mars_map, warehouses, settlements, r_map, seed)\n\u001b[0;32m      7\u001b[0m problem\u001b[39m.\u001b[39mwrite_problem(objects, init)\n\u001b[1;32m----> 8\u001b[0m problem\u001b[39m.\u001b[39;49mexecute(optim)\n\u001b[0;32m      9\u001b[0m steps, times, result \u001b[39m=\u001b[39m problem\u001b[39m.\u001b[39mread_output()\n\u001b[0;32m     10\u001b[0m results\u001b[39m.\u001b[39mappend(result)\n",
      "File \u001b[1;32mc:\\Users\\Noel Nathan\\Desktop\\Universidad\\3r Quadrimestre\\ABIA\\ABIA_PDDL_Project\\Python\\generator.py:202\u001b[0m, in \u001b[0;36mProblem.execute\u001b[1;34m(self, optim)\u001b[0m\n\u001b[0;32m    200\u001b[0m O \u001b[39m=\u001b[39m \u001b[39m\"\u001b[39m\u001b[39m -O \u001b[39m\u001b[39m\"\u001b[39m \u001b[39mif\u001b[39;00m optim \u001b[39melse\u001b[39;00m \u001b[39m\"\u001b[39m\u001b[39m\"\u001b[39m\n\u001b[0;32m    201\u001b[0m cmd \u001b[39m=\u001b[39m \u001b[39mf\u001b[39m\u001b[39m'\u001b[39m\u001b[39m\"\u001b[39m\u001b[39m{\u001b[39;00m\u001b[39mself\u001b[39m\u001b[39m.\u001b[39mpaths[\u001b[39m\"\u001b[39m\u001b[39mexecutable\u001b[39m\u001b[39m\"\u001b[39m]\u001b[39m}\u001b[39;00m\u001b[39m\"\u001b[39m\u001b[39m \u001b[39m\u001b[39m{\u001b[39;00mO\u001b[39m}\u001b[39;00m\u001b[39m-o \u001b[39m\u001b[39m\"\u001b[39m\u001b[39m{\u001b[39;00m\u001b[39mself\u001b[39m\u001b[39m.\u001b[39mpaths[\u001b[39m\"\u001b[39m\u001b[39mdomain\u001b[39m\u001b[39m\"\u001b[39m]\u001b[39m}\u001b[39;00m\u001b[39m\"\u001b[39m\u001b[39m -f \u001b[39m\u001b[39m\"\u001b[39m\u001b[39m{\u001b[39;00m\u001b[39mself\u001b[39m\u001b[39m.\u001b[39mpaths[\u001b[39m\"\u001b[39m\u001b[39mproblem\u001b[39m\u001b[39m\"\u001b[39m]\u001b[39m}\u001b[39;00m\u001b[39m\"\u001b[39m\u001b[39m'\u001b[39m\n\u001b[1;32m--> 202\u001b[0m output \u001b[39m=\u001b[39m subprocess\u001b[39m.\u001b[39;49mrun(shlex\u001b[39m.\u001b[39;49msplit(cmd), capture_output\u001b[39m=\u001b[39;49m\u001b[39mTrue\u001b[39;49;00m)\u001b[39m.\u001b[39mstdout\n\u001b[0;32m    203\u001b[0m output \u001b[39m=\u001b[39m \u001b[39mstr\u001b[39m(output)\u001b[39m.\u001b[39mreplace(\u001b[39m'\u001b[39m\u001b[39m\\\\\u001b[39;00m\u001b[39mn\u001b[39m\u001b[39m'\u001b[39m, \u001b[39m'\u001b[39m\u001b[39m\\n\u001b[39;00m\u001b[39m'\u001b[39m)\n\u001b[0;32m    205\u001b[0m \u001b[39mwith\u001b[39;00m \u001b[39mopen\u001b[39m(\u001b[39mself\u001b[39m\u001b[39m.\u001b[39mpaths[\u001b[39m\"\u001b[39m\u001b[39moutput\u001b[39m\u001b[39m\"\u001b[39m], \u001b[39m'\u001b[39m\u001b[39mw\u001b[39m\u001b[39m'\u001b[39m) \u001b[39mas\u001b[39;00m f:\n",
      "File \u001b[1;32mc:\\Users\\Noel Nathan\\AppData\\Local\\Programs\\Python\\Python38\\lib\\subprocess.py:495\u001b[0m, in \u001b[0;36mrun\u001b[1;34m(input, capture_output, timeout, check, *popenargs, **kwargs)\u001b[0m\n\u001b[0;32m    493\u001b[0m \u001b[39mwith\u001b[39;00m Popen(\u001b[39m*\u001b[39mpopenargs, \u001b[39m*\u001b[39m\u001b[39m*\u001b[39mkwargs) \u001b[39mas\u001b[39;00m process:\n\u001b[0;32m    494\u001b[0m     \u001b[39mtry\u001b[39;00m:\n\u001b[1;32m--> 495\u001b[0m         stdout, stderr \u001b[39m=\u001b[39m process\u001b[39m.\u001b[39;49mcommunicate(\u001b[39minput\u001b[39;49m, timeout\u001b[39m=\u001b[39;49mtimeout)\n\u001b[0;32m    496\u001b[0m     \u001b[39mexcept\u001b[39;00m TimeoutExpired \u001b[39mas\u001b[39;00m exc:\n\u001b[0;32m    497\u001b[0m         process\u001b[39m.\u001b[39mkill()\n",
      "File \u001b[1;32mc:\\Users\\Noel Nathan\\AppData\\Local\\Programs\\Python\\Python38\\lib\\subprocess.py:1028\u001b[0m, in \u001b[0;36mPopen.communicate\u001b[1;34m(self, input, timeout)\u001b[0m\n\u001b[0;32m   1025\u001b[0m     endtime \u001b[39m=\u001b[39m \u001b[39mNone\u001b[39;00m\n\u001b[0;32m   1027\u001b[0m \u001b[39mtry\u001b[39;00m:\n\u001b[1;32m-> 1028\u001b[0m     stdout, stderr \u001b[39m=\u001b[39m \u001b[39mself\u001b[39;49m\u001b[39m.\u001b[39;49m_communicate(\u001b[39minput\u001b[39;49m, endtime, timeout)\n\u001b[0;32m   1029\u001b[0m \u001b[39mexcept\u001b[39;00m \u001b[39mKeyboardInterrupt\u001b[39;00m:\n\u001b[0;32m   1030\u001b[0m     \u001b[39m# https://bugs.python.org/issue25942\u001b[39;00m\n\u001b[0;32m   1031\u001b[0m     \u001b[39m# See the detailed comment in .wait().\u001b[39;00m\n\u001b[0;32m   1032\u001b[0m     \u001b[39mif\u001b[39;00m timeout \u001b[39mis\u001b[39;00m \u001b[39mnot\u001b[39;00m \u001b[39mNone\u001b[39;00m:\n",
      "File \u001b[1;32mc:\\Users\\Noel Nathan\\AppData\\Local\\Programs\\Python\\Python38\\lib\\subprocess.py:1399\u001b[0m, in \u001b[0;36mPopen._communicate\u001b[1;34m(self, input, endtime, orig_timeout)\u001b[0m\n\u001b[0;32m   1395\u001b[0m \u001b[39m# Wait for the reader threads, or time out.  If we time out, the\u001b[39;00m\n\u001b[0;32m   1396\u001b[0m \u001b[39m# threads remain reading and the fds left open in case the user\u001b[39;00m\n\u001b[0;32m   1397\u001b[0m \u001b[39m# calls communicate again.\u001b[39;00m\n\u001b[0;32m   1398\u001b[0m \u001b[39mif\u001b[39;00m \u001b[39mself\u001b[39m\u001b[39m.\u001b[39mstdout \u001b[39mis\u001b[39;00m \u001b[39mnot\u001b[39;00m \u001b[39mNone\u001b[39;00m:\n\u001b[1;32m-> 1399\u001b[0m     \u001b[39mself\u001b[39;49m\u001b[39m.\u001b[39;49mstdout_thread\u001b[39m.\u001b[39;49mjoin(\u001b[39mself\u001b[39;49m\u001b[39m.\u001b[39;49m_remaining_time(endtime))\n\u001b[0;32m   1400\u001b[0m     \u001b[39mif\u001b[39;00m \u001b[39mself\u001b[39m\u001b[39m.\u001b[39mstdout_thread\u001b[39m.\u001b[39mis_alive():\n\u001b[0;32m   1401\u001b[0m         \u001b[39mraise\u001b[39;00m TimeoutExpired(\u001b[39mself\u001b[39m\u001b[39m.\u001b[39margs, orig_timeout)\n",
      "File \u001b[1;32mc:\\Users\\Noel Nathan\\AppData\\Local\\Programs\\Python\\Python38\\lib\\threading.py:1011\u001b[0m, in \u001b[0;36mThread.join\u001b[1;34m(self, timeout)\u001b[0m\n\u001b[0;32m   1008\u001b[0m     \u001b[39mraise\u001b[39;00m \u001b[39mRuntimeError\u001b[39;00m(\u001b[39m\"\u001b[39m\u001b[39mcannot join current thread\u001b[39m\u001b[39m\"\u001b[39m)\n\u001b[0;32m   1010\u001b[0m \u001b[39mif\u001b[39;00m timeout \u001b[39mis\u001b[39;00m \u001b[39mNone\u001b[39;00m:\n\u001b[1;32m-> 1011\u001b[0m     \u001b[39mself\u001b[39;49m\u001b[39m.\u001b[39;49m_wait_for_tstate_lock()\n\u001b[0;32m   1012\u001b[0m \u001b[39melse\u001b[39;00m:\n\u001b[0;32m   1013\u001b[0m     \u001b[39m# the behavior of a negative timeout isn't documented, but\u001b[39;00m\n\u001b[0;32m   1014\u001b[0m     \u001b[39m# historically .join(timeout=x) for x<0 has acted as if timeout=0\u001b[39;00m\n\u001b[0;32m   1015\u001b[0m     \u001b[39mself\u001b[39m\u001b[39m.\u001b[39m_wait_for_tstate_lock(timeout\u001b[39m=\u001b[39m\u001b[39mmax\u001b[39m(timeout, \u001b[39m0\u001b[39m))\n",
      "File \u001b[1;32mc:\\Users\\Noel Nathan\\AppData\\Local\\Programs\\Python\\Python38\\lib\\threading.py:1027\u001b[0m, in \u001b[0;36mThread._wait_for_tstate_lock\u001b[1;34m(self, block, timeout)\u001b[0m\n\u001b[0;32m   1025\u001b[0m \u001b[39mif\u001b[39;00m lock \u001b[39mis\u001b[39;00m \u001b[39mNone\u001b[39;00m:  \u001b[39m# already determined that the C code is done\u001b[39;00m\n\u001b[0;32m   1026\u001b[0m     \u001b[39massert\u001b[39;00m \u001b[39mself\u001b[39m\u001b[39m.\u001b[39m_is_stopped\n\u001b[1;32m-> 1027\u001b[0m \u001b[39melif\u001b[39;00m lock\u001b[39m.\u001b[39;49macquire(block, timeout):\n\u001b[0;32m   1028\u001b[0m     lock\u001b[39m.\u001b[39mrelease()\n\u001b[0;32m   1029\u001b[0m     \u001b[39mself\u001b[39m\u001b[39m.\u001b[39m_stop()\n",
      "\u001b[1;31mKeyboardInterrupt\u001b[0m: "
     ]
    }
   ],
   "source": [
    "# Experimento 1\n",
    "for var in [1, 10, 25, 50, 75, 100, 125, 150, 175, 200, 225, 250, 275]:\n",
    "    problem = Problem('Nivel basico', 'nivel_basico', 'custom')\n",
    "\n",
    "    n_rovers = 1\n",
    "    # Fix Params\n",
    "    suministros = var\n",
    "    personal = var\n",
    "    optim = True\n",
    "\n",
    "    mars_map = [(1, 2), (2, 3)]\n",
    "    warehouses = [2]\n",
    "    settlements = [1, 3]\n",
    "    r_map = 0.5\n",
    "    results = experiment(problem, seeds, n_rovers, suministros, personal, mars_map, warehouses, settlements, r_map, optim)\n",
    "    print_results(results, title=f'Transportables:{var *2}')\n"
   ]
  }
 ],
 "metadata": {
  "kernelspec": {
   "display_name": "Python 3.8.10 64-bit",
   "language": "python",
   "name": "python3"
  },
  "language_info": {
   "codemirror_mode": {
    "name": "ipython",
    "version": 3
   },
   "file_extension": ".py",
   "mimetype": "text/x-python",
   "name": "python",
   "nbconvert_exporter": "python",
   "pygments_lexer": "ipython3",
   "version": "3.8.10"
  },
  "orig_nbformat": 4,
  "vscode": {
   "interpreter": {
    "hash": "cb66bb2af75ba0ef290e793252d0a1d0e39bc719684f07e601155879a70408e5"
   }
  }
 },
 "nbformat": 4,
 "nbformat_minor": 2
}
