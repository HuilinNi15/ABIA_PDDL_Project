{
 "cells": [
  {
   "cell_type": "code",
   "execution_count": 1,
   "metadata": {},
   "outputs": [],
   "source": [
    "from Python.generator import Problem\n",
    "import pandas as pd\n",
    "import time"
   ]
  },
  {
   "cell_type": "code",
   "execution_count": 2,
   "metadata": {},
   "outputs": [],
   "source": [
    "# seeds = [rand.randint(1, 1000000000) for _ in range(10)]\n",
    "seeds = [310294340,\n",
    " 481384238,\n",
    " 393948691,\n",
    " 54466310,\n",
    " 393844825,\n",
    " 607440463,\n",
    " 611846857,\n",
    " 836378547,\n",
    " 666002099,\n",
    " 639709340]"
   ]
  },
  {
   "cell_type": "code",
   "execution_count": 7,
   "metadata": {},
   "outputs": [],
   "source": [
    "def experiment(problem, seeds, n_rovers, suministros, personal, mars_map, warehouses, settlements, r_map, optim):\n",
    "    results = []\n",
    "    for seed in seeds:\n",
    "        objects, init = problem.generate_problem(\n",
    "            n_rovers, suministros, personal, mars_map, warehouses, settlements, r_map, seed)\n",
    "\n",
    "        problem.write_problem(objects, init)\n",
    "        start     = time.time()\n",
    "        problem.execute(optim)\n",
    "        end       = time.time()\n",
    "        steps, times, result = problem.read_output()\n",
    "        result[1] = end - start\n",
    "        results.append(result)\n",
    "    return results\n"
   ]
  },
  {
   "cell_type": "code",
   "execution_count": 8,
   "metadata": {},
   "outputs": [],
   "source": [
    "def print_results(results, title):\n",
    "    mean = []\n",
    "\n",
    "    df = pd.DataFrame(results)\n",
    "    df = df.astype(float)\n",
    "    mean = df.mean()\n",
    "\n",
    "    # print(results[0])\n",
    "    print('------------------------------------------')\n",
    "    print(title)\n",
    "    print(f\"Step: {mean[0]}\")\n",
    "    print(f\"Time: {mean[1]}s\")\n",
    "    print(f\"easy actions: {mean[2]}\")\n",
    "    print(f\"hard actions: {mean[3]}\") # Este no está puesto para apuntar, perquè siempre ha sido cero\n",
    "    print(f\"facts: {mean[4]}\")\n",
    "    print(f\"actions: {mean[5]}\")\n",
    "    print(f\"relevant facts: {mean[6]}\")\n",
    "    print(f\"relevant fluents: {mean[7]}\")\n",
    "    print(f\"states: {mean[8]}\")\n",
    "    print(f\"depth: {mean[9]}\")\n",
    "    print('------------------------------------------')\n"
   ]
  },
  {
   "cell_type": "code",
   "execution_count": 9,
   "metadata": {},
   "outputs": [
    {
     "name": "stdout",
     "output_type": "stream",
     "text": [
      "0.00\n",
      "0.08457446098327637\n",
      "0.15\n",
      "0.08213233947753906\n",
      "0.16\n",
      "0.1219477653503418\n",
      "0.00\n",
      "0.11890649795532227\n",
      "0.15\n",
      "0.09636521339416504\n",
      "0.15\n",
      "0.12638425827026367\n",
      "0.16\n",
      "0.137037992477417\n",
      "0.00\n",
      "0.12518668174743652\n",
      "0.15\n",
      "0.0990755558013916\n",
      "0.15\n",
      "0.1044774055480957\n",
      "------------------------------------------\n",
      "Transportables:2\n",
      "Step: 7.7\n",
      "Time: 0.1096088171005249\n",
      "easy actions: 60.0\n",
      "hard actions: 0.0\n",
      "facts: 22.0\n",
      "actions: 36.0\n",
      "relevant facts: 22.0\n",
      "relevant fluents: 0.0\n",
      "states: 43.7\n",
      "depth: 0.0\n",
      "------------------------------------------\n"
     ]
    }
   ],
   "source": [
    "# Experimento 1\n",
    "for var in [1]: #[1, 10, 25, 50, 75, 100, 125, 150, 175, 200, 225, 250, 275]:\n",
    "    problem = Problem('Nivel basico', 'nivel_basico', 'custom')\n",
    "\n",
    "    n_rovers = 2\n",
    "    suministros = var\n",
    "    personal = var\n",
    "    optim = True\n",
    "\n",
    "    mars_map    = [(1, 2), (2, 3), (1, 3), (3, 4), (4, 5), (4, 6), (5, 6)]\n",
    "    warehouses  = [1, 2, 5, 6]\n",
    "    settlements = [3, 4]\n",
    "    r_map = 0.5\n",
    "    results = experiment(problem, seeds, n_rovers, suministros, personal, mars_map, warehouses, settlements, r_map, optim)\n",
    "    print_results(results, title=f'Transportables:{var *2}')\n"
   ]
  },
  {
   "cell_type": "code",
   "execution_count": null,
   "metadata": {},
   "outputs": [],
   "source": [
    "# Experimento 2\n",
    "for var in [1, 8, 16, 32, 64, 128, 256, 512, 1024, 2048]:\n",
    "    problem = Problem('Nivel basico', 'nivel_basico', 'custom')\n",
    "\n",
    "    n_rovers = var\n",
    "    suministros = 50\n",
    "    personal = 50\n",
    "    optim = False\n",
    "\n",
    "    mars_map    = [(1, 2), (2, 3), (1, 3), (3, 4), (4, 5), (4, 6), (5, 6)]\n",
    "    warehouses  = [1, 2, 5, 6]\n",
    "    settlements = [3, 4]\n",
    "    r_map = 0.5\n",
    "    results = experiment(problem, seeds, n_rovers, suministros, personal, mars_map, warehouses, settlements, r_map, optim)\n",
    "    print_results(results, title=f'Transportables:{var *2}')"
   ]
  }
 ],
 "metadata": {
  "kernelspec": {
   "display_name": "Python 3.8.10 64-bit",
   "language": "python",
   "name": "python3"
  },
  "language_info": {
   "codemirror_mode": {
    "name": "ipython",
    "version": 3
   },
   "file_extension": ".py",
   "mimetype": "text/x-python",
   "name": "python",
   "nbconvert_exporter": "python",
   "pygments_lexer": "ipython3",
   "version": "3.8.10"
  },
  "orig_nbformat": 4,
  "vscode": {
   "interpreter": {
    "hash": "cb66bb2af75ba0ef290e793252d0a1d0e39bc719684f07e601155879a70408e5"
   }
  }
 },
 "nbformat": 4,
 "nbformat_minor": 2
}
